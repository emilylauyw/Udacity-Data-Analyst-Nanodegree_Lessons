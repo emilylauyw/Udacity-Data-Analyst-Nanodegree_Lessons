{
 "cells": [
  {
   "cell_type": "markdown",
   "metadata": {
    "collapsed": true
   },
   "source": [
    "# Simpson's Paradox\n",
    "Use the Jupyter notebook to analyze admission_data.csv to find the following values below.\n",
    "\n",
    "Proportion and admission rate for each gender\n",
    "Proportion and admission rate for physics majors of each gender\n",
    "Proportion and admission rate for chemistry majors of each gender\n",
    "Admission rate for each major"
   ]
  },
  {
   "cell_type": "code",
   "execution_count": 18,
   "metadata": {},
   "outputs": [
    {
     "data": {
      "text/html": [
       "<div>\n",
       "<style scoped>\n",
       "    .dataframe tbody tr th:only-of-type {\n",
       "        vertical-align: middle;\n",
       "    }\n",
       "\n",
       "    .dataframe tbody tr th {\n",
       "        vertical-align: top;\n",
       "    }\n",
       "\n",
       "    .dataframe thead th {\n",
       "        text-align: right;\n",
       "    }\n",
       "</style>\n",
       "<table border=\"1\" class=\"dataframe\">\n",
       "  <thead>\n",
       "    <tr style=\"text-align: right;\">\n",
       "      <th></th>\n",
       "      <th>student_id</th>\n",
       "      <th>gender</th>\n",
       "      <th>major</th>\n",
       "      <th>admitted</th>\n",
       "    </tr>\n",
       "  </thead>\n",
       "  <tbody>\n",
       "    <tr>\n",
       "      <th>0</th>\n",
       "      <td>35377</td>\n",
       "      <td>female</td>\n",
       "      <td>Chemistry</td>\n",
       "      <td>False</td>\n",
       "    </tr>\n",
       "    <tr>\n",
       "      <th>1</th>\n",
       "      <td>56105</td>\n",
       "      <td>male</td>\n",
       "      <td>Physics</td>\n",
       "      <td>True</td>\n",
       "    </tr>\n",
       "    <tr>\n",
       "      <th>2</th>\n",
       "      <td>31441</td>\n",
       "      <td>female</td>\n",
       "      <td>Chemistry</td>\n",
       "      <td>False</td>\n",
       "    </tr>\n",
       "    <tr>\n",
       "      <th>3</th>\n",
       "      <td>51765</td>\n",
       "      <td>male</td>\n",
       "      <td>Physics</td>\n",
       "      <td>True</td>\n",
       "    </tr>\n",
       "    <tr>\n",
       "      <th>4</th>\n",
       "      <td>53714</td>\n",
       "      <td>female</td>\n",
       "      <td>Physics</td>\n",
       "      <td>True</td>\n",
       "    </tr>\n",
       "  </tbody>\n",
       "</table>\n",
       "</div>"
      ],
      "text/plain": [
       "   student_id  gender      major  admitted\n",
       "0       35377  female  Chemistry     False\n",
       "1       56105    male    Physics      True\n",
       "2       31441  female  Chemistry     False\n",
       "3       51765    male    Physics      True\n",
       "4       53714  female    Physics      True"
      ]
     },
     "execution_count": 18,
     "metadata": {},
     "output_type": "execute_result"
    }
   ],
   "source": [
    "# Load and view first few lines of dataset\n",
    "import pandas as pd\n",
    "import numpy as np\n",
    "\n",
    "df = pd.read_csv('admission_data.csv')\n",
    "df.head()"
   ]
  },
  {
   "cell_type": "markdown",
   "metadata": {},
   "source": [
    "### Proportion and admission rate for each gender"
   ]
  },
  {
   "cell_type": "code",
   "execution_count": 19,
   "metadata": {},
   "outputs": [
    {
     "data": {
      "text/plain": [
       "0.514"
      ]
     },
     "execution_count": 19,
     "metadata": {},
     "output_type": "execute_result"
    }
   ],
   "source": [
    "# Proportion of students that are female\n",
    "len(df[df['gender'] == 'female'])/df.shape[0]"
   ]
  },
  {
   "cell_type": "code",
   "execution_count": 20,
   "metadata": {},
   "outputs": [
    {
     "data": {
      "text/plain": [
       "0.486"
      ]
     },
     "execution_count": 20,
     "metadata": {},
     "output_type": "execute_result"
    }
   ],
   "source": [
    "# Proportion of students that are male\n",
    "1 - _"
   ]
  },
  {
   "cell_type": "code",
   "execution_count": 21,
   "metadata": {},
   "outputs": [
    {
     "data": {
      "text/plain": [
       "0.28793774319066145"
      ]
     },
     "execution_count": 21,
     "metadata": {},
     "output_type": "execute_result"
    }
   ],
   "source": [
    "# Admission rate for females\n",
    "df[df['gender'] == 'female']['admitted'].mean() "
   ]
  },
  {
   "cell_type": "code",
   "execution_count": 22,
   "metadata": {},
   "outputs": [
    {
     "data": {
      "text/plain": [
       "0.48559670781893005"
      ]
     },
     "execution_count": 22,
     "metadata": {},
     "output_type": "execute_result"
    }
   ],
   "source": [
    "# Admission rate for males\n",
    "df[df['gender'] == 'male']['admitted'].mean() #admission rates for females appear to be lower"
   ]
  },
  {
   "cell_type": "markdown",
   "metadata": {},
   "source": [
    "> By only looking at gender and admission rates, Males appears to be favored in the admissions process. Males were admitted at a rate of 48.6%, while females were admitted at a rate of 28.8%."
   ]
  },
  {
   "cell_type": "markdown",
   "metadata": {},
   "source": [
    "### Proportion and admission rate for physics majors of each gender"
   ]
  },
  {
   "cell_type": "code",
   "execution_count": 23,
   "metadata": {},
   "outputs": [
    {
     "data": {
      "text/plain": [
       "0.12062256809338522"
      ]
     },
     "execution_count": 23,
     "metadata": {},
     "output_type": "execute_result"
    }
   ],
   "source": [
    "# What proportion of female students are majoring in physics?\n",
    "\n",
    "# given that a student is female, what is the probability they major in physics \n",
    "# that is the proportion of females and physics majors divided by the proportion of females\n",
    "# since the denominators are the same, we can just get counts of each and take the ratio\n",
    "\n",
    "df.query('gender == \"female\" and major == \"Physics\"').count()[0]/len(df[df['gender'] == 'female'])"
   ]
  },
  {
   "cell_type": "code",
   "execution_count": 24,
   "metadata": {},
   "outputs": [
    {
     "data": {
      "text/plain": [
       "0.9259259259259259"
      ]
     },
     "execution_count": 24,
     "metadata": {},
     "output_type": "execute_result"
    }
   ],
   "source": [
    "# What proportion of male students are majoring in physics?\n",
    "\n",
    "df.query('gender == \"male\" and major == \"Physics\"').count()[0]/len(df[df['gender'] == 'male']) # many more males apply"
   ]
  },
  {
   "cell_type": "code",
   "execution_count": 25,
   "metadata": {},
   "outputs": [
    {
     "data": {
      "text/plain": [
       "0.7419354838709677"
      ]
     },
     "execution_count": 25,
     "metadata": {},
     "output_type": "execute_result"
    }
   ],
   "source": [
    "# Admission rate for female physics majors\n",
    "\n",
    "# That is what proportion of females who apply in physics are admitted\n",
    "fem_adm_phys = df.query('gender == \"female\" and major == \"Physics\" and admitted == True').count()[0]\n",
    "fem_phys = df.query('gender == \"female\" and major == \"Physics\"').count()[0]\n",
    "\n",
    "fem_adm_phys/fem_phys"
   ]
  },
  {
   "cell_type": "code",
   "execution_count": 26,
   "metadata": {},
   "outputs": [
    {
     "data": {
      "text/plain": [
       "0.5155555555555555"
      ]
     },
     "execution_count": 26,
     "metadata": {},
     "output_type": "execute_result"
    }
   ],
   "source": [
    "# Admission rate for male physics majors\n",
    "\n",
    "# That is what proportion of males who apply in physics are admitted \n",
    "male_adm_phys = df.query('gender == \"male\" and major == \"Physics\" and admitted == True').count()[0]\n",
    "male_phys = df.query('gender == \"male\" and major == \"Physics\"').count()[0]\n",
    "\n",
    "male_adm_phys/male_phys #female admissions in physics are higher"
   ]
  },
  {
   "cell_type": "markdown",
   "metadata": {},
   "source": [
    ">- Of the students applying as physics majors, Females appears to be favored in the admissions process. Female physics majors were admitted at a rate of 74.2%, while male physics majors were admitted at a rate of 51.6%.\n",
    "- Males tends to have more physics majors than chemistry majors. 92.6% of males have physics majors."
   ]
  },
  {
   "cell_type": "markdown",
   "metadata": {},
   "source": [
    "### Proportion and admission rate for chemistry majors of each gender"
   ]
  },
  {
   "cell_type": "code",
   "execution_count": 27,
   "metadata": {},
   "outputs": [
    {
     "data": {
      "text/plain": [
       "0.8793774319066148"
      ]
     },
     "execution_count": 27,
     "metadata": {},
     "output_type": "execute_result"
    }
   ],
   "source": [
    "# What proportion of female students are majoring in chemistry?\n",
    "df.query('gender == \"female\" and major == \"Chemistry\"').count()[0]/len(df[df['gender'] == 'female'])"
   ]
  },
  {
   "cell_type": "code",
   "execution_count": 28,
   "metadata": {},
   "outputs": [
    {
     "data": {
      "text/plain": [
       "0.07407407407407407"
      ]
     },
     "execution_count": 28,
     "metadata": {},
     "output_type": "execute_result"
    }
   ],
   "source": [
    "# What proportion of male students are majoring in chemistry?\n",
    "df.query('gender == \"male\" and major == \"Chemistry\"').count()[0]/len(df[df['gender'] == 'male']) #many fewer males"
   ]
  },
  {
   "cell_type": "code",
   "execution_count": 29,
   "metadata": {},
   "outputs": [
    {
     "data": {
      "text/plain": [
       "0.22566371681415928"
      ]
     },
     "execution_count": 29,
     "metadata": {},
     "output_type": "execute_result"
    }
   ],
   "source": [
    "# Admission rate for female chemistry majors\n",
    "fem_adm_chem = df.query('gender == \"female\" and major == \"Chemistry\" and admitted == True').count()[0]\n",
    "fem_chem = df.query('gender == \"female\" and major == \"Chemistry\"').count()[0]\n",
    "\n",
    "fem_adm_chem/fem_chem"
   ]
  },
  {
   "cell_type": "code",
   "execution_count": 30,
   "metadata": {},
   "outputs": [
    {
     "data": {
      "text/plain": [
       "0.1111111111111111"
      ]
     },
     "execution_count": 30,
     "metadata": {},
     "output_type": "execute_result"
    }
   ],
   "source": [
    "# Admission rate for male chemistry majors\n",
    "male_adm_chem = df.query('gender == \"male\" and major == \"Chemistry\" and admitted == True').count()[0]\n",
    "male_chem = df.query('gender == \"male\" and major == \"Chemistry\"').count()[0]\n",
    "\n",
    "male_adm_chem/male_chem #fewer males are admitted into chemistry as well as physics"
   ]
  },
  {
   "cell_type": "markdown",
   "metadata": {},
   "source": [
    ">- Of the students applying as chemistry majors, Females appears to be favored in the admissions process. Women were admitted as chemistry majors at a rate of 22.6%, while men were admitted at a rate of 11.1%.\n",
    "- Females tends to have more chemistry majors than physics majors. 87.9% of females have chemistry majors."
   ]
  },
  {
   "cell_type": "markdown",
   "metadata": {},
   "source": [
    "### Admission rate for each major"
   ]
  },
  {
   "cell_type": "code",
   "execution_count": 31,
   "metadata": {},
   "outputs": [
    {
     "data": {
      "text/plain": [
       "0.54296875"
      ]
     },
     "execution_count": 31,
     "metadata": {},
     "output_type": "execute_result"
    }
   ],
   "source": [
    "# Admission rate for physics majors\n",
    "df[df['major'] == \"Physics\"]['admitted'].mean()"
   ]
  },
  {
   "cell_type": "code",
   "execution_count": 33,
   "metadata": {},
   "outputs": [
    {
     "data": {
      "text/plain": [
       "0.21721311475409835"
      ]
     },
     "execution_count": 33,
     "metadata": {},
     "output_type": "execute_result"
    }
   ],
   "source": [
    "# Admission rate for chemistry majors\n",
    "df[df['major'] == \"Chemistry\"]['admitted'].mean()"
   ]
  },
  {
   "cell_type": "markdown",
   "metadata": {},
   "source": [
    ">Chemistry has a lower admission rate. Chemistry has an admission rate of 21.7%, while physics has a rate of 54.3%!"
   ]
  },
  {
   "cell_type": "markdown",
   "metadata": {},
   "source": [
    "Many more females applied to chemistry, which had a lower admissions rate.  Therefore, they had an overall lower admission rate.  Though, females had higher admission rates conditionally in both physics and chemistry.  This is known as **Simpson's Paradox**."
   ]
  },
  {
   "cell_type": "code",
   "execution_count": null,
   "metadata": {},
   "outputs": [],
   "source": []
  }
 ],
 "metadata": {
  "kernelspec": {
   "display_name": "Python 3",
   "language": "python",
   "name": "python3"
  },
  "language_info": {
   "codemirror_mode": {
    "name": "ipython",
    "version": 3
   },
   "file_extension": ".py",
   "mimetype": "text/x-python",
   "name": "python",
   "nbconvert_exporter": "python",
   "pygments_lexer": "ipython3",
   "version": "3.6.5"
  }
 },
 "nbformat": 4,
 "nbformat_minor": 2
}
